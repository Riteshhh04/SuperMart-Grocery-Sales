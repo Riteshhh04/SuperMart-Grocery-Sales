# Supermart Grocery Sales Dataset Cleaning in Jupyter Notebook


# Step 1: Import Libraries
import pandas as pd


# Step 2: Load Dataset
df = pd.read_csv("Supermart Grocery Sales - Retail Analytics Dataset.csv")


# Step 3: Basic Info
print("Initial Data Info:")
print(df.info())
print("\nFirst 5 Rows:")
print(df.head())


# Step 4: Check for Duplicates and Drop Them
duplicates = df.duplicated().sum()
print(f"Duplicate rows: {duplicates}")
df = df.drop_duplicates()


# Step 5: Check for Missing Values
missing = df.isnull().sum()
print("\nMissing Values per Column:")
print(missing)


df.info()



# Step 7: Standardize Column Names
df.columns = df.columns.str.strip().str.replace(" ", "_").str.lower()


df.info()



# Step 9: Final Preview
print("\nCleaned Data Preview:")
print(df.head())


# Step 10: Export Cleaned Data to CSV
df.to_csv("cleaned_supermart_sales.csv", index=False)
print("Cleaned dataset saved as 'cleaned_supermart_sales.csv'")


# Step 2: Load the Existing CSV File
file_path = "cleaned_supermart_sales.csv"  # Same file
df = pd.read_csv(file_path)


print(df.head())


# Step 3: Drop Unnecessary Columns (if they exist)
columns_to_drop = ["Unnamed: 11", "Unnamed: 12", "Unnamed: 13"]
df.drop(columns=[col for col in columns_to_drop if col in df.columns], inplace=True)


# Step 4: Convert 'order_date' to datetime format
df['order_date'] = pd.to_datetime(df['order_date'], format='%d-%m-%Y')


# Step 5: Create New Columns

# Profit Percentage
df['profit_%'] = (df['profit'] / df['sales']) * 100



# Discount Percentage
df['discount_%'] = df['discount'] * 100


# Month Name
df['month_name'] = df['order_date'].dt.month_name()


# Day Name
df['day_name'] = df['order_date'].dt.day_name()



# Year
df['year'] = df['order_date'].dt.year


# Weekday or Weekend
df['week_type'] = df['order_date'].dt.dayofweek.apply(lambda x: 'Weekend' if x >= 5 else 'Weekday')


# Step 6: Save Changes Back to the Same File
df.to_csv(file_path, index=False)


df.head()



